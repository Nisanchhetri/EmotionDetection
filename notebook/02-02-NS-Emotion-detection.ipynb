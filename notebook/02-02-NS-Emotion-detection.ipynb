{
 "cells": [
  {
   "cell_type": "markdown",
   "metadata": {},
   "source": [
    "## Introduction\n",
    "In this project, we have to identify the emotion from the text. "
   ]
  },
  {
   "cell_type": "markdown",
   "metadata": {},
   "source": [
    "## Dataset description\n"
   ]
  },
  {
   "cell_type": "markdown",
   "metadata": {},
   "source": [
    "## Importing imortant libraries"
   ]
  },
  {
   "cell_type": "code",
   "execution_count": 8,
   "metadata": {},
   "outputs": [],
   "source": [
    "import pandas as pd\n",
    "import nltk\n",
    "\n",
    "from sklearn.model_selection import train_test_split\n",
    "from tensorflow.keras.models import Sequential\n",
    "from tensorflow.keras.layers import Dense"
   ]
  },
  {
   "cell_type": "markdown",
   "metadata": {},
   "source": [
    "## Loading dataset"
   ]
  },
  {
   "cell_type": "code",
   "execution_count": 9,
   "metadata": {},
   "outputs": [],
   "source": [
    "dataset_path = '../ml/data/ISEAR.csv'\n",
    "emotion_data = pd.read_csv(dataset_path)"
   ]
  },
  {
   "cell_type": "code",
   "execution_count": 10,
   "metadata": {},
   "outputs": [
    {
     "data": {
      "text/html": [
       "<div>\n",
       "<style scoped>\n",
       "    .dataframe tbody tr th:only-of-type {\n",
       "        vertical-align: middle;\n",
       "    }\n",
       "\n",
       "    .dataframe tbody tr th {\n",
       "        vertical-align: top;\n",
       "    }\n",
       "\n",
       "    .dataframe thead th {\n",
       "        text-align: right;\n",
       "    }\n",
       "</style>\n",
       "<table border=\"1\" class=\"dataframe\">\n",
       "  <thead>\n",
       "    <tr style=\"text-align: right;\">\n",
       "      <th></th>\n",
       "      <th>0</th>\n",
       "      <th>joy</th>\n",
       "      <th>On days when I feel close to my partner and other friends.   \\nWhen I feel at peace with myself and also experience a close  \\ncontact with people whom I regard greatly.</th>\n",
       "    </tr>\n",
       "  </thead>\n",
       "  <tbody>\n",
       "    <tr>\n",
       "      <th>0</th>\n",
       "      <td>1</td>\n",
       "      <td>fear</td>\n",
       "      <td>Every time I imagine that someone I love or I ...</td>\n",
       "    </tr>\n",
       "    <tr>\n",
       "      <th>1</th>\n",
       "      <td>2</td>\n",
       "      <td>anger</td>\n",
       "      <td>When I had been obviously unjustly treated and...</td>\n",
       "    </tr>\n",
       "    <tr>\n",
       "      <th>2</th>\n",
       "      <td>3</td>\n",
       "      <td>sadness</td>\n",
       "      <td>When I think about the short time that we live...</td>\n",
       "    </tr>\n",
       "    <tr>\n",
       "      <th>3</th>\n",
       "      <td>4</td>\n",
       "      <td>disgust</td>\n",
       "      <td>At a gathering I found myself involuntarily si...</td>\n",
       "    </tr>\n",
       "    <tr>\n",
       "      <th>4</th>\n",
       "      <td>5</td>\n",
       "      <td>shame</td>\n",
       "      <td>When I realized that I was directing the feeli...</td>\n",
       "    </tr>\n",
       "  </tbody>\n",
       "</table>\n",
       "</div>"
      ],
      "text/plain": [
       "   0      joy  \\\n",
       "0  1     fear   \n",
       "1  2    anger   \n",
       "2  3  sadness   \n",
       "3  4  disgust   \n",
       "4  5    shame   \n",
       "\n",
       "  On days when I feel close to my partner and other friends.   \\nWhen I feel at peace with myself and also experience a close  \\ncontact with people whom I regard greatly.  \n",
       "0  Every time I imagine that someone I love or I ...                                                                                                                         \n",
       "1  When I had been obviously unjustly treated and...                                                                                                                         \n",
       "2  When I think about the short time that we live...                                                                                                                         \n",
       "3  At a gathering I found myself involuntarily si...                                                                                                                         \n",
       "4  When I realized that I was directing the feeli...                                                                                                                         "
      ]
     },
     "execution_count": 10,
     "metadata": {},
     "output_type": "execute_result"
    }
   ],
   "source": [
    "emotion_data.head()"
   ]
  },
  {
   "cell_type": "code",
   "execution_count": 11,
   "metadata": {},
   "outputs": [],
   "source": [
    "emotion_data_array = emotion_data.values"
   ]
  },
  {
   "cell_type": "code",
   "execution_count": 12,
   "metadata": {},
   "outputs": [
    {
     "data": {
      "text/plain": [
       "(7445, 3)"
      ]
     },
     "execution_count": 12,
     "metadata": {},
     "output_type": "execute_result"
    }
   ],
   "source": [
    "emotion_data.shape"
   ]
  },
  {
   "cell_type": "code",
   "execution_count": 13,
   "metadata": {},
   "outputs": [],
   "source": [
    "labels, sentence_collection = emotion_data_array[:, 1], emotion_data_array[:, 2]"
   ]
  },
  {
   "cell_type": "markdown",
   "metadata": {},
   "source": [
    "## Text Augmentation\n",
    "Since, we have not enough dataset for multiclass classification, we are using the method of text augmentation. We are using the library called, `nlpaug`."
   ]
  },
  {
   "cell_type": "code",
   "execution_count": 14,
   "metadata": {},
   "outputs": [],
   "source": [
    "import nlpaug.augmenter.word as naw\n",
    "\n",
    "from nlpaug.util import Action"
   ]
  },
  {
   "cell_type": "code",
   "execution_count": 15,
   "metadata": {},
   "outputs": [],
   "source": [
    "aug = naw.SynonymAug(aug_src='wordnet')\n",
    "# augmented_text = aug.augment(text)\n",
    "# print(\"Before: \", text, \"\\nAfter: \", augmented_text)\n",
    "# augmented_text = aug.augment(text)\n",
    "# print(\"\\nBefore: \", text, \"\\nAfter: \", augmented_text)"
   ]
  },
  {
   "cell_type": "code",
   "execution_count": 16,
   "metadata": {},
   "outputs": [],
   "source": [
    "data_struc = {'emotion_label': [], 'emotion_text': []}\n",
    "aug_dataframe = pd.DataFrame(data_struc)"
   ]
  },
  {
   "cell_type": "code",
   "execution_count": 17,
   "metadata": {},
   "outputs": [
    {
     "data": {
      "text/html": [
       "<div>\n",
       "<style scoped>\n",
       "    .dataframe tbody tr th:only-of-type {\n",
       "        vertical-align: middle;\n",
       "    }\n",
       "\n",
       "    .dataframe tbody tr th {\n",
       "        vertical-align: top;\n",
       "    }\n",
       "\n",
       "    .dataframe thead th {\n",
       "        text-align: right;\n",
       "    }\n",
       "</style>\n",
       "<table border=\"1\" class=\"dataframe\">\n",
       "  <thead>\n",
       "    <tr style=\"text-align: right;\">\n",
       "      <th></th>\n",
       "      <th>emotion_label</th>\n",
       "      <th>emotion_text</th>\n",
       "    </tr>\n",
       "  </thead>\n",
       "  <tbody>\n",
       "  </tbody>\n",
       "</table>\n",
       "</div>"
      ],
      "text/plain": [
       "Empty DataFrame\n",
       "Columns: [emotion_label, emotion_text]\n",
       "Index: []"
      ]
     },
     "execution_count": 17,
     "metadata": {},
     "output_type": "execute_result"
    }
   ],
   "source": [
    "aug_dataframe"
   ]
  },
  {
   "cell_type": "markdown",
   "metadata": {},
   "source": [
    "Here, we are using two augmentation techniques, namely, `synonyms augmentation` and `random word swapping`."
   ]
  },
  {
   "cell_type": "code",
   "execution_count": null,
   "metadata": {},
   "outputs": [],
   "source": [
    "for label, sentence in zip(labels, sentence_collection):\n",
    "    if sentence.find(\"\\n\") > 0:\n",
    "        sentence = sentence.replace(\"\\n\", \"\")\n",
    "        augmented_sent = aug.augment(sentence)\n",
    "        aug_dataframe = aug_dataframe.append(\n",
    "            {'emotion_label': label, 'emotion_text': sentence},\n",
    "            ignore_index=True\n",
    "        )\n",
    "        aug_dataframe = aug_dataframe.append(\n",
    "            {'emotion_label': label, 'emotion_text': augmented_sent},\n",
    "            ignore_index=True\n",
    "        )\n",
    "        augmented_sent = aug.augment(sentence)\n",
    "        aug_dataframe = aug_dataframe.append(\n",
    "            {'emotion_label': label, 'emotion_text': augmented_sent},\n",
    "            ignore_index=True\n",
    "        )\n",
    "    \n",
    "        aug1 = naw.RandomWordAug(action=\"swap\")\n",
    "        augmented_sent1 = aug1.augment(sentence)\n",
    "        aug_dataframe = aug_dataframe.append(\n",
    "            {'emotion_label': label, 'emotion_text': augmented_sent1},\n",
    "            ignore_index=True\n",
    "        )\n",
    "    else:\n",
    "        augmented_sent = aug.augment(sentence)\n",
    "        aug_dataframe = aug_dataframe.append(\n",
    "            {'emotion_label': label, 'emotion_text': sentence},\n",
    "            ignore_index=True\n",
    "        )\n",
    "        aug_dataframe = aug_dataframe.append(\n",
    "            {'emotion_label': label, 'emotion_text': augmented_sent},\n",
    "            ignore_index=True\n",
    "        )\n",
    "        augmented_sent = aug.augment(sentence)\n",
    "        aug_dataframe = aug_dataframe.append(\n",
    "            {'emotion_label': label, 'emotion_text': augmented_sent},\n",
    "            ignore_index=True\n",
    "        )\n",
    "        aug1 = naw.RandomWordAug(action=\"swap\")\n",
    "        augmented_sent1 = aug1.augment(sentence)\n",
    "        aug_dataframe = aug_dataframe.append(\n",
    "            {'emotion_label': label, 'emotion_text': augmented_sent1},\n",
    "            ignore_index=True\n",
    "        )"
   ]
  },
  {
   "cell_type": "code",
   "execution_count": 18,
   "metadata": {},
   "outputs": [],
   "source": [
    "aug_array = aug_dataframe.values"
   ]
  },
  {
   "cell_type": "code",
   "execution_count": 19,
   "metadata": {},
   "outputs": [
    {
     "data": {
      "text/plain": [
       "(29783, 2)"
      ]
     },
     "execution_count": 19,
     "metadata": {},
     "output_type": "execute_result"
    }
   ],
   "source": [
    "aug_dataframe.shape"
   ]
  },
  {
   "cell_type": "code",
   "execution_count": 20,
   "metadata": {},
   "outputs": [
    {
     "data": {
      "text/plain": [
       "array(['Every time I imagine that someone I love or I could contact a  serious illness, even death.',\n",
       "       'Every time I envisage that someone I love operating theater I could reach a serious illness , even end .',\n",
       "       'Every time I envisage that someone I love operating theater I could reach a serious illness , even end .',\n",
       "       ...,\n",
       "       'Once I dispute with my sister and after this I deliberately messed upwards her property .',\n",
       "       'Once I dispute with my sister and after this I deliberately messed upwards her property .',\n",
       "       'Once I dispute with my sister and after this I deliberately messed upwards her property .'],\n",
       "      dtype=object)"
      ]
     },
     "execution_count": 20,
     "metadata": {},
     "output_type": "execute_result"
    }
   ],
   "source": [
    "aug_array[:, 1]"
   ]
  },
  {
   "cell_type": "code",
   "execution_count": 21,
   "metadata": {},
   "outputs": [],
   "source": [
    "labels, sentence_collection = aug_array[:, 0], aug_array[:, 1]"
   ]
  },
  {
   "cell_type": "code",
   "execution_count": 22,
   "metadata": {},
   "outputs": [
    {
     "data": {
      "text/plain": [
       "array(['fear', 'fear', 'fear', ..., 'guilt', 'guilt', 'guilt'],\n",
       "      dtype=object)"
      ]
     },
     "execution_count": 22,
     "metadata": {},
     "output_type": "execute_result"
    }
   ],
   "source": [
    "labels"
   ]
  },
  {
   "cell_type": "markdown",
   "metadata": {},
   "source": [
    "### Tokenization"
   ]
  },
  {
   "cell_type": "code",
   "execution_count": 23,
   "metadata": {},
   "outputs": [],
   "source": [
    "whitespace_tokenizer = nltk.tokenize.WhitespaceTokenizer()\n",
    "treebank_tokenizer = nltk.tokenize.TreebankWordTokenizer()"
   ]
  },
  {
   "cell_type": "code",
   "execution_count": 24,
   "metadata": {},
   "outputs": [],
   "source": [
    "whitespace_tokenized_sentences = []\n",
    "for sentence in sentence_collection:\n",
    "    whitespace_tokenized_sentences.append(\n",
    "                                    whitespace_tokenizer.tokenize(sentence)\n",
    "                                    )"
   ]
  },
  {
   "cell_type": "code",
   "execution_count": 25,
   "metadata": {},
   "outputs": [],
   "source": [
    "treebank_tokenized_sentences = []\n",
    "for sentence in sentence_collection:\n",
    "    treebank_tokenized_sentences.append(treebank_tokenizer.tokenize(sentence))"
   ]
  },
  {
   "cell_type": "markdown",
   "metadata": {},
   "source": [
    "### Token normalization"
   ]
  },
  {
   "cell_type": "code",
   "execution_count": 26,
   "metadata": {},
   "outputs": [],
   "source": [
    "lemmatizer = nltk.stem.WordNetLemmatizer()"
   ]
  },
  {
   "cell_type": "code",
   "execution_count": 27,
   "metadata": {},
   "outputs": [],
   "source": [
    "lemmatized_sentences = []\n",
    "for sentence in treebank_tokenized_sentences:\n",
    "    lemmatized_sentences.append(\" \".join(lemmatizer.lemmatize(token.lower()) for token in sentence))"
   ]
  },
  {
   "cell_type": "code",
   "execution_count": 28,
   "metadata": {},
   "outputs": [],
   "source": [
    "from nltk.corpus import stopwords\n",
    "from string import punctuation\n",
    "\n",
    "StopWords = set(stopwords.words('english'))\n",
    "\n",
    "preprocessed_sentences = []\n",
    "for sentence in lemmatized_sentences:\n",
    "    tem_sentence = \"\"\n",
    "    for word in sentence.split(\" \"):\n",
    "        if word in punctuation:\n",
    "            pass\n",
    "        elif word.find(\"!\") >= 0:\n",
    "            print(word)\n",
    "        elif word not in StopWords:\n",
    "            tem_sentence += word + \" \"\n",
    "    preprocessed_sentences.append(tem_sentence.strip())"
   ]
  },
  {
   "cell_type": "code",
   "execution_count": 29,
   "metadata": {},
   "outputs": [],
   "source": [
    "import numpy as np\n",
    "\n",
    "X_data = np.array(preprocessed_sentences)"
   ]
  },
  {
   "cell_type": "code",
   "execution_count": 30,
   "metadata": {},
   "outputs": [
    {
     "data": {
      "text/plain": [
       "(29783,)"
      ]
     },
     "execution_count": 30,
     "metadata": {},
     "output_type": "execute_result"
    }
   ],
   "source": [
    "labels.shape"
   ]
  },
  {
   "cell_type": "code",
   "execution_count": 31,
   "metadata": {},
   "outputs": [],
   "source": [
    "from sklearn.preprocessing import OrdinalEncoder\n",
    "from sklearn.feature_extraction.text import TfidfVectorizer"
   ]
  },
  {
   "cell_type": "code",
   "execution_count": 32,
   "metadata": {},
   "outputs": [],
   "source": [
    "encoder = OrdinalEncoder()\n",
    "encoded_label = encoder.fit_transform(X=(labels.reshape(-1, 1)))"
   ]
  },
  {
   "cell_type": "code",
   "execution_count": 33,
   "metadata": {},
   "outputs": [
    {
     "data": {
      "text/plain": [
       "array([[2.],\n",
       "       [2.],\n",
       "       [2.],\n",
       "       ...,\n",
       "       [3.],\n",
       "       [3.],\n",
       "       [3.]])"
      ]
     },
     "execution_count": 33,
     "metadata": {},
     "output_type": "execute_result"
    }
   ],
   "source": [
    "encoded_label"
   ]
  },
  {
   "cell_type": "code",
   "execution_count": 34,
   "metadata": {},
   "outputs": [],
   "source": [
    "tf_vectorizer = TfidfVectorizer()\n",
    "X_features = tf_vectorizer.fit_transform(X_data)"
   ]
  },
  {
   "cell_type": "code",
   "execution_count": 35,
   "metadata": {},
   "outputs": [],
   "source": [
    "X_values = X_features.toarray()"
   ]
  },
  {
   "cell_type": "code",
   "execution_count": 36,
   "metadata": {},
   "outputs": [],
   "source": [
    "y_values = encoded_label.ravel()"
   ]
  },
  {
   "cell_type": "code",
   "execution_count": 37,
   "metadata": {},
   "outputs": [
    {
     "data": {
      "text/plain": [
       "(29783, 11484)"
      ]
     },
     "execution_count": 37,
     "metadata": {},
     "output_type": "execute_result"
    }
   ],
   "source": [
    "X_values.shape"
   ]
  },
  {
   "cell_type": "code",
   "execution_count": 38,
   "metadata": {},
   "outputs": [],
   "source": [
    "X_train, X_test, y_train, y_test = train_test_split(X_values, y_values, test_size=0.2)"
   ]
  },
  {
   "cell_type": "code",
   "execution_count": 39,
   "metadata": {},
   "outputs": [
    {
     "data": {
      "text/plain": [
       "23826"
      ]
     },
     "execution_count": 39,
     "metadata": {},
     "output_type": "execute_result"
    }
   ],
   "source": [
    "X_train.shape[0]"
   ]
  },
  {
   "cell_type": "code",
   "execution_count": 47,
   "metadata": {},
   "outputs": [
    {
     "name": "stdout",
     "output_type": "stream",
     "text": [
      "[LibLinear]"
     ]
    },
    {
     "data": {
      "text/plain": [
       "LogisticRegression(C=5, class_weight=None, dual=False, fit_intercept=True,\n",
       "                   intercept_scaling=1, l1_ratio=None, max_iter=1000,\n",
       "                   multi_class='auto', n_jobs=None, penalty='l2',\n",
       "                   random_state=0, solver='liblinear', tol=0.0001, verbose=1,\n",
       "                   warm_start=False)"
      ]
     },
     "execution_count": 47,
     "metadata": {},
     "output_type": "execute_result"
    }
   ],
   "source": [
    "from sklearn.linear_model import LogisticRegression\n",
    "\n",
    "model = LogisticRegression(verbose=1, solver='liblinear',random_state=0, C=5, penalty='l2',max_iter=1000)\n",
    "model.fit(X_train, y_train)"
   ]
  },
  {
   "cell_type": "code",
   "execution_count": 48,
   "metadata": {},
   "outputs": [],
   "source": [
    "y_predicted = model.predict(X_test)"
   ]
  },
  {
   "cell_type": "code",
   "execution_count": 49,
   "metadata": {},
   "outputs": [
    {
     "name": "stdout",
     "output_type": "stream",
     "text": [
      "              precision    recall  f1-score   support\n",
      "\n",
      "         0.0       0.87      0.87      0.87       883\n",
      "         1.0       0.90      0.90      0.90       831\n",
      "         2.0       0.91      0.94      0.93       835\n",
      "         3.0       0.88      0.86      0.87       819\n",
      "         4.0       0.92      0.95      0.93       864\n",
      "         5.0       0.91      0.90      0.90       846\n",
      "         6.0       0.88      0.86      0.87       879\n",
      "\n",
      "    accuracy                           0.90      5957\n",
      "   macro avg       0.90      0.90      0.90      5957\n",
      "weighted avg       0.90      0.90      0.90      5957\n",
      "\n"
     ]
    }
   ],
   "source": [
    "from sklearn.metrics import accuracy_score\n",
    "from sklearn.metrics import classification_report\n",
    "accuracy_score(y_test, y_predicted)\n",
    "print(classification_report(y_test, y_predicted))"
   ]
  },
  {
   "cell_type": "code",
   "execution_count": 43,
   "metadata": {},
   "outputs": [
    {
     "data": {
      "text/plain": [
       "MultinomialNB(alpha=0.8, class_prior=None, fit_prior=True)"
      ]
     },
     "execution_count": 43,
     "metadata": {},
     "output_type": "execute_result"
    }
   ],
   "source": [
    "from sklearn.naive_bayes import MultinomialNB\n",
    "\n",
    "nb_model = MultinomialNB(alpha=0.8)\n",
    "nb_model.fit(X_train, y_train)"
   ]
  },
  {
   "cell_type": "code",
   "execution_count": 44,
   "metadata": {},
   "outputs": [],
   "source": [
    "y_predicted = nb_model.predict(X_test)"
   ]
  },
  {
   "cell_type": "code",
   "execution_count": 45,
   "metadata": {},
   "outputs": [
    {
     "data": {
      "text/plain": [
       "0.7955346650998825"
      ]
     },
     "execution_count": 45,
     "metadata": {},
     "output_type": "execute_result"
    }
   ],
   "source": [
    "accuracy_score(y_test, y_predicted)"
   ]
  },
  {
   "cell_type": "code",
   "execution_count": 52,
   "metadata": {},
   "outputs": [],
   "source": [
    "from tensorflow.keras.models import Sequential\n",
    "from tensorflow.keras.layers import Dense, Dropout, Activation, BatchNormalization\n",
    "from tensorflow.keras.optimizers import SGD\n",
    "from tensorflow.keras.constraints import max_norm\n",
    "import tensorflow.keras.backend"
   ]
  },
  {
   "cell_type": "code",
   "execution_count": 53,
   "metadata": {},
   "outputs": [],
   "source": [
    "model = Sequential()\n",
    "\n",
    "model.add(Dense(125, input_dim=X_values.shape[1], activation='relu'))\n",
    "model.add(Dropout(0.5))\n",
    "model.add(Dense(30, activation='relu'))\n",
    "model.add(Dropout(0.5))\n",
    "model.add(Dense(7, activation='softmax'))\n",
    "\n",
    "sgd = SGD(lr=0.03)\n",
    "\n",
    "model.compile(loss='sparse_categorical_crossentropy', optimizer=sgd, metrics=['accuracy'])"
   ]
  },
  {
   "cell_type": "code",
   "execution_count": 54,
   "metadata": {},
   "outputs": [
    {
     "name": "stdout",
     "output_type": "stream",
     "text": [
      "Train on 23826 samples, validate on 5957 samples\n",
      "Epoch 1/50\n",
      "23826/23826 [==============================] - 15s 613us/sample - loss: 1.9448 - accuracy: 0.1495 - val_loss: 1.9388 - val_accuracy: 0.1450\n",
      "Epoch 2/50\n",
      "23826/23826 [==============================] - 12s 512us/sample - loss: 1.9313 - accuracy: 0.1884 - val_loss: 1.9117 - val_accuracy: 0.3824\n",
      "Epoch 3/50\n",
      "23826/23826 [==============================] - 12s 512us/sample - loss: 1.8923 - accuracy: 0.2504 - val_loss: 1.8406 - val_accuracy: 0.5034\n",
      "Epoch 4/50\n",
      "23826/23826 [==============================] - 12s 509us/sample - loss: 1.7961 - accuracy: 0.3246 - val_loss: 1.6872 - val_accuracy: 0.4460\n",
      "Epoch 5/50\n",
      "23826/23826 [==============================] - 12s 501us/sample - loss: 1.6320 - accuracy: 0.4044 - val_loss: 1.4778 - val_accuracy: 0.5179\n",
      "Epoch 6/50\n",
      "23826/23826 [==============================] - 10s 425us/sample - loss: 1.4573 - accuracy: 0.4763 - val_loss: 1.2913 - val_accuracy: 0.6005\n",
      "Epoch 7/50\n",
      "23826/23826 [==============================] - 11s 477us/sample - loss: 1.3094 - accuracy: 0.5355 - val_loss: 1.1451 - val_accuracy: 0.6552\n",
      "Epoch 8/50\n",
      "23826/23826 [==============================] - 12s 485us/sample - loss: 1.1770 - accuracy: 0.5918 - val_loss: 1.2475 - val_accuracy: 0.5649\n",
      "Epoch 9/50\n",
      "23826/23826 [==============================] - 12s 490us/sample - loss: 1.0609 - accuracy: 0.6338 - val_loss: 0.9183 - val_accuracy: 0.7129\n",
      "Epoch 10/50\n",
      "23826/23826 [==============================] - 12s 501us/sample - loss: 0.9629 - accuracy: 0.6751 - val_loss: 0.9120 - val_accuracy: 0.6925\n",
      "Epoch 11/50\n",
      "23826/23826 [==============================] - 12s 501us/sample - loss: 0.8642 - accuracy: 0.7126 - val_loss: 0.7824 - val_accuracy: 0.7838\n",
      "Epoch 12/50\n",
      "23826/23826 [==============================] - 12s 484us/sample - loss: 0.7827 - accuracy: 0.7389 - val_loss: 0.7645 - val_accuracy: 0.7514\n",
      "Epoch 13/50\n",
      "23826/23826 [==============================] - 12s 501us/sample - loss: 0.7151 - accuracy: 0.7701 - val_loss: 0.6091 - val_accuracy: 0.8221\n",
      "Epoch 14/50\n",
      "23826/23826 [==============================] - 12s 500us/sample - loss: 0.6612 - accuracy: 0.7880 - val_loss: 0.5451 - val_accuracy: 0.8440\n",
      "Epoch 15/50\n",
      "23826/23826 [==============================] - 12s 499us/sample - loss: 0.5970 - accuracy: 0.8102 - val_loss: 0.6265 - val_accuracy: 0.7876\n",
      "Epoch 16/50\n",
      "23826/23826 [==============================] - 12s 493us/sample - loss: 0.5528 - accuracy: 0.8241 - val_loss: 0.5008 - val_accuracy: 0.8504\n",
      "Epoch 17/50\n",
      "23826/23826 [==============================] - 12s 498us/sample - loss: 0.5041 - accuracy: 0.8417 - val_loss: 0.5267 - val_accuracy: 0.8459\n",
      "Epoch 18/50\n",
      "23826/23826 [==============================] - 12s 517us/sample - loss: 0.4719 - accuracy: 0.8547 - val_loss: 0.6048 - val_accuracy: 0.8098\n",
      "Epoch 19/50\n",
      "23826/23826 [==============================] - 12s 507us/sample - loss: 0.4448 - accuracy: 0.8604 - val_loss: 0.3800 - val_accuracy: 0.8988\n",
      "Epoch 20/50\n",
      "23826/23826 [==============================] - 12s 497us/sample - loss: 0.4119 - accuracy: 0.8716 - val_loss: 0.4042 - val_accuracy: 0.8882\n",
      "Epoch 21/50\n",
      "23826/23826 [==============================] - 12s 496us/sample - loss: 0.3767 - accuracy: 0.8856 - val_loss: 0.3494 - val_accuracy: 0.9078\n",
      "Epoch 22/50\n",
      "23826/23826 [==============================] - 12s 493us/sample - loss: 0.3632 - accuracy: 0.8882 - val_loss: 0.4116 - val_accuracy: 0.8723\n",
      "Epoch 23/50\n",
      "23826/23826 [==============================] - 12s 521us/sample - loss: 0.3396 - accuracy: 0.8967 - val_loss: 0.3303 - val_accuracy: 0.9144\n",
      "Epoch 24/50\n",
      "23826/23826 [==============================] - 13s 546us/sample - loss: 0.3255 - accuracy: 0.9020 - val_loss: 0.2891 - val_accuracy: 0.9228\n",
      "Epoch 25/50\n",
      "23826/23826 [==============================] - 12s 500us/sample - loss: 0.3003 - accuracy: 0.9087 - val_loss: 0.2911 - val_accuracy: 0.9241\n",
      "Epoch 26/50\n",
      "23826/23826 [==============================] - 12s 501us/sample - loss: 0.2949 - accuracy: 0.9099 - val_loss: 0.3847 - val_accuracy: 0.8872\n",
      "Epoch 27/50\n",
      "23826/23826 [==============================] - 12s 496us/sample - loss: 0.2797 - accuracy: 0.9137 - val_loss: 0.7143 - val_accuracy: 0.7739\n",
      "Epoch 28/50\n",
      "23826/23826 [==============================] - 12s 504us/sample - loss: 0.2692 - accuracy: 0.9186 - val_loss: 0.2525 - val_accuracy: 0.9312\n",
      "Epoch 29/50\n",
      "23826/23826 [==============================] - 12s 507us/sample - loss: 0.2465 - accuracy: 0.9256 - val_loss: 0.2664 - val_accuracy: 0.9352\n",
      "Epoch 30/50\n",
      "23826/23826 [==============================] - 12s 495us/sample - loss: 0.2470 - accuracy: 0.9235 - val_loss: 0.2434 - val_accuracy: 0.9370\n",
      "Epoch 31/50\n",
      "23826/23826 [==============================] - 12s 500us/sample - loss: 0.2385 - accuracy: 0.9266 - val_loss: 0.2639 - val_accuracy: 0.9330\n",
      "Epoch 32/50\n",
      "23826/23826 [==============================] - 12s 503us/sample - loss: 0.2138 - accuracy: 0.9353 - val_loss: 0.2463 - val_accuracy: 0.9335\n",
      "Epoch 33/50\n",
      "23826/23826 [==============================] - 12s 507us/sample - loss: 0.2224 - accuracy: 0.9315 - val_loss: 0.2355 - val_accuracy: 0.9424\n",
      "Epoch 34/50\n",
      "23826/23826 [==============================] - 12s 506us/sample - loss: 0.2049 - accuracy: 0.9385 - val_loss: 0.2383 - val_accuracy: 0.9392\n",
      "Epoch 35/50\n",
      "23826/23826 [==============================] - 12s 500us/sample - loss: 0.1977 - accuracy: 0.9392 - val_loss: 0.2819 - val_accuracy: 0.9335\n",
      "Epoch 36/50\n",
      "23826/23826 [==============================] - 12s 498us/sample - loss: 0.1956 - accuracy: 0.9399 - val_loss: 0.2364 - val_accuracy: 0.9389\n",
      "Epoch 37/50\n",
      "23826/23826 [==============================] - 12s 502us/sample - loss: 0.1874 - accuracy: 0.9432 - val_loss: 0.2388 - val_accuracy: 0.9407\n",
      "Epoch 38/50\n",
      "23826/23826 [==============================] - 12s 500us/sample - loss: 0.1870 - accuracy: 0.9417 - val_loss: 0.2403 - val_accuracy: 0.9389\n",
      "Epoch 39/50\n",
      "23826/23826 [==============================] - 12s 506us/sample - loss: 0.1806 - accuracy: 0.9440 - val_loss: 0.2601 - val_accuracy: 0.9335\n",
      "Epoch 40/50\n",
      "23826/23826 [==============================] - 12s 498us/sample - loss: 0.1656 - accuracy: 0.9488 - val_loss: 0.2469 - val_accuracy: 0.9409\n",
      "Epoch 41/50\n",
      "23826/23826 [==============================] - 12s 494us/sample - loss: 0.1700 - accuracy: 0.9474 - val_loss: 0.2430 - val_accuracy: 0.9391\n",
      "Epoch 42/50\n",
      "23826/23826 [==============================] - 13s 560us/sample - loss: 0.1597 - accuracy: 0.9519 - val_loss: 0.2467 - val_accuracy: 0.9350\n",
      "Epoch 43/50\n",
      "23826/23826 [==============================] - 13s 526us/sample - loss: 0.1588 - accuracy: 0.9508 - val_loss: 0.2443 - val_accuracy: 0.9407\n",
      "Epoch 44/50\n",
      "23826/23826 [==============================] - 13s 526us/sample - loss: 0.1575 - accuracy: 0.9516 - val_loss: 0.2560 - val_accuracy: 0.9344\n",
      "Epoch 45/50\n",
      "23826/23826 [==============================] - 13s 529us/sample - loss: 0.1452 - accuracy: 0.9560 - val_loss: 0.2478 - val_accuracy: 0.9421\n",
      "Epoch 46/50\n",
      "23826/23826 [==============================] - 12s 524us/sample - loss: 0.1504 - accuracy: 0.9547 - val_loss: 0.2581 - val_accuracy: 0.9412\n",
      "Epoch 47/50\n",
      "23826/23826 [==============================] - 12s 518us/sample - loss: 0.1430 - accuracy: 0.9540 - val_loss: 0.2746 - val_accuracy: 0.9402\n",
      "Epoch 48/50\n",
      "23826/23826 [==============================] - 13s 548us/sample - loss: 0.1429 - accuracy: 0.9551 - val_loss: 0.5759 - val_accuracy: 0.8375\n",
      "Epoch 49/50\n",
      "23826/23826 [==============================] - 12s 521us/sample - loss: 0.1438 - accuracy: 0.9557 - val_loss: 0.2553 - val_accuracy: 0.9424\n",
      "Epoch 50/50\n",
      "23826/23826 [==============================] - 12s 518us/sample - loss: 0.1356 - accuracy: 0.9586 - val_loss: 0.2814 - val_accuracy: 0.9360\n"
     ]
    },
    {
     "data": {
      "text/plain": [
       "<tensorflow.python.keras.callbacks.History at 0x7f9f2043d198>"
      ]
     },
     "execution_count": 54,
     "metadata": {},
     "output_type": "execute_result"
    }
   ],
   "source": [
    "model.fit(X_train, y_train, validation_data=(X_test, y_test), epochs=50, batch_size=20)"
   ]
  },
  {
   "cell_type": "code",
   "execution_count": null,
   "metadata": {},
   "outputs": [],
   "source": [
    "from sklearn.svm import SVC\n",
    "\n",
    "svc_model = SVC()\n",
    "svc_model.fit(X_train, y_train)"
   ]
  },
  {
   "cell_type": "code",
   "execution_count": null,
   "metadata": {},
   "outputs": [],
   "source": []
  },
  {
   "cell_type": "code",
   "execution_count": null,
   "metadata": {},
   "outputs": [],
   "source": []
  },
  {
   "cell_type": "code",
   "execution_count": 55,
   "metadata": {},
   "outputs": [
    {
     "data": {
      "text/plain": [
       "Text(91.68, 0.5, 'predicted label')"
      ]
     },
     "execution_count": 55,
     "metadata": {},
     "output_type": "execute_result"
    },
    {
     "data": {
      "image/png": "[encoded data removed]",
      "text/plain": [
       "<Figure size 432x288 with 1 Axes>"
      ]
     },
     "metadata": {
      "needs_background": "light"
     },
     "output_type": "display_data"
    }
   ],
   "source": [
    "import seaborn as sns\n",
    "import matplotlib.pyplot as plt\n",
    "\n",
    "from sklearn.metrics import confusion_matrix\n",
    "\n",
    "confusion_mat = confusion_matrix(y_test, y_predicted)\n",
    "sns.heatmap(confusion_mat.T, square=True, annot=True, fmt='d', cbar=False)\n",
    "plt.xlabel('true label')\n",
    "plt.ylabel('predicted label')"
   ]
  },
  {
   "cell_type": "code",
   "execution_count": null,
   "metadata": {},
   "outputs": [],
   "source": [
    "from sklearn import metrics\n",
    "\n",
    "print(metrics.accuracy_score(y_test, test_label))"
   ]
  }
 ],
 "metadata": {
  "kernelspec": {
   "display_name": "Python 3",
   "language": "python",
   "name": "python3"
  },
  "language_info": {
   "codemirror_mode": {
    "name": "ipython",
    "version": 3
   },
   "file_extension": ".py",
   "mimetype": "text/x-python",
   "name": "python",
   "nbconvert_exporter": "python",
   "pygments_lexer": "ipython3",
   "version": "3.7.3"
  }
 },
 "nbformat": 4,
 "nbformat_minor": 2
}
